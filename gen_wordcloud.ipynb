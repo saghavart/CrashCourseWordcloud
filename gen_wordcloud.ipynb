{
 "cells": [
  {
   "cell_type": "code",
   "execution_count": 1,
   "metadata": {},
   "outputs": [],
   "source": [
    "import wordcloud\n",
    "import nltk\n",
    "#importing stop words from nltk, which is a commonly used library for  nlp\n",
    "from nltk.corpus import stopwords\n",
    "stopwords.words('english')\n",
    "#function for reading text from file\n",
    "def read_text(filename):\n",
    "    f = open(filename)\n",
    "    text=f.read()\n",
    "    return text\n",
    "text=read_text(\"KamaSutra.txt\")\n"
   ]
  },
  {
   "cell_type": "code",
   "execution_count": 2,
   "metadata": {},
   "outputs": [],
   "source": [
    "\n",
    "def remove_punctuation(text):\n",
    "    new_text=\"\"\n",
    "    for char in text:\n",
    "        if(char.isalpha() or char.isspace()):\n",
    "            new_text+=char\n",
    "    return new_text\n",
    "new_text=remove_punctuation(text)    \n",
    "def remove_uninteresting(text,uninteresting={ \"a\", \"and\",\"the\", \"to\", \"if\",\"at\",\"of\"}):\n",
    "    final_text=[]\n",
    "    for word in text.split():\n",
    "        if(not word.lower() in uninteresting):\n",
    "            final_text.append(word)\n",
    "    return final_text\n",
    "\n",
    "final_text=remove_uninteresting(new_text,stopwords.words('english'))"
   ]
  },
  {
   "cell_type": "code",
   "execution_count": 3,
   "metadata": {},
   "outputs": [],
   "source": [
    "#generating dict with keys from list and 0 values\n",
    "word_freq = dict.fromkeys(final_text, 0)\n",
    "#counting word frequencies\n",
    "for i in final_text:\n",
    "    word_freq[i]+=1\n",
    "#sorting dict by value(most frequent words in top)\n",
    "word_freq=dict(sorted(word_freq.items(), key=lambda item: item[1],reverse=True))    \n"
   ]
  },
  {
   "cell_type": "code",
   "execution_count": 4,
   "metadata": {},
   "outputs": [
    {
     "data": {
      "text/plain": [
       "<wordcloud.wordcloud.WordCloud at 0x7fbb4c2f2940>"
      ]
     },
     "execution_count": 4,
     "metadata": {},
     "output_type": "execute_result"
    }
   ],
   "source": [
    "cloud = wordcloud.WordCloud()\n",
    "cloud.generate_from_frequencies(word_freq)\n",
    "cloud.to_file(\"wordFreqWithNLTK.jpg\")"
   ]
  },
  {
   "cell_type": "code",
   "execution_count": null,
   "metadata": {},
   "outputs": [],
   "source": []
  },
  {
   "cell_type": "code",
   "execution_count": null,
   "metadata": {},
   "outputs": [],
   "source": []
  }
 ],
 "metadata": {
  "kernelspec": {
   "display_name": "Python 3",
   "language": "python",
   "name": "python3"
  },
  "language_info": {
   "codemirror_mode": {
    "name": "ipython",
    "version": 3
   },
   "file_extension": ".py",
   "mimetype": "text/x-python",
   "name": "python",
   "nbconvert_exporter": "python",
   "pygments_lexer": "ipython3",
   "version": "3.8.5"
  }
 },
 "nbformat": 4,
 "nbformat_minor": 4
}
